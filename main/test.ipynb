{
 "cells": [
  {
   "cell_type": "code",
   "execution_count": 2,
   "metadata": {},
   "outputs": [
    {
     "name": "stderr",
     "output_type": "stream",
     "text": [
      "e:\\code\\Jupyter\\Dive-into-DL-PyTorch\\ENV_DIR\\Lib\\site-packages\\torchvision\\models\\_utils.py:208: UserWarning: The parameter 'pretrained' is deprecated since 0.13 and may be removed in the future, please use 'weights' instead.\n",
      "  warnings.warn(\n",
      "e:\\code\\Jupyter\\Dive-into-DL-PyTorch\\ENV_DIR\\Lib\\site-packages\\torchvision\\models\\_utils.py:223: UserWarning: Arguments other than a weight enum or `None` for 'weights' are deprecated since 0.13 and may be removed in the future. The current behavior is equivalent to passing `weights=None`.\n",
      "  warnings.warn(msg)\n",
      "C:\\Users\\lenovo\\AppData\\Local\\Temp\\ipykernel_17860\\1111899027.py:15: FutureWarning: You are using `torch.load` with `weights_only=False` (the current default value), which uses the default pickle module implicitly. It is possible to construct malicious pickle data which will execute arbitrary code during unpickling (See https://github.com/pytorch/pytorch/blob/main/SECURITY.md#untrusted-models for more details). In a future release, the default value for `weights_only` will be flipped to `True`. This limits the functions that could be executed during unpickling. Arbitrary objects will no longer be allowed to be loaded via this mode unless they are explicitly allowlisted by the user via `torch.serialization.add_safe_globals`. We recommend you start setting `weights_only=True` for any use case where you don't have full control of the loaded file. Please open an issue on GitHub for any issues related to this experimental feature.\n",
      "  model.load_state_dict(torch.load(r\"E:\\code\\Jupyter\\final_repo\\best_model.pth\", map_location=device))  # 加载模型权重到 GPU 或 CPU\n"
     ]
    },
    {
     "name": "stdout",
     "output_type": "stream",
     "text": [
      "Accuracy: 0.00%\n"
     ]
    }
   ],
   "source": [
    "import torch\n",
    "from torchvision import models, transforms\n",
    "from PIL import Image\n",
    "import os\n",
    "\n",
    "# 1. 定义模型架构\n",
    "model = models.vgg16(pretrained=False)  # 使用 VGG16 架构\n",
    "model.classifier[6] = torch.nn.Linear(4096, 2)  # 输出2个类别：炎症治疗有效（1）和无炎症治疗效果（0）\n",
    "\n",
    "# 2. 将模型移到 GPU（如果有可用的 GPU）\n",
    "device = torch.device('cuda' if torch.cuda.is_available() else 'cpu')  # 如果有 GPU，使用 GPU；否则使用 CPU\n",
    "model = model.to(device)\n",
    "\n",
    "# 3. 加载保存的模型权重到设备\n",
    "model.load_state_dict(torch.load(r\"E:\\code\\Jupyter\\final_repo\\best_model.pth\", map_location=device))  # 加载模型权重到 GPU 或 CPU\n",
    "model.eval()  # 切换为评估模式\n",
    "\n",
    "# 4. 定义图像预处理操作\n",
    "transform = transforms.Compose([\n",
    "    transforms.Resize((224, 224)),  # 调整图像大小\n",
    "    transforms.ToTensor(),  # 转换为 Tensor\n",
    "    transforms.Normalize(mean=[0.485, 0.456, 0.406], std=[0.229, 0.224, 0.225])  # 标准化\n",
    "])\n",
    "\n",
    "# 5. 测试文件夹中的所有图片\n",
    "folder_path = r'E:\\code\\Jupyter\\final_repo\\pics\\Anti-inflammatory'  # 替换为你的图片文件夹路径\n",
    "correct = 0\n",
    "total = 0\n",
    "\n",
    "# 遍历文件夹中的所有图片\n",
    "for filename in os.listdir(folder_path):\n",
    "    if filename.endswith('.jpg') or filename.endswith('.png'):  # 确保是图片文件\n",
    "        img_path = os.path.join(folder_path, filename)\n",
    "        \n",
    "        # 加载并确保图片是 RGB 格式\n",
    "        img = Image.open(img_path).convert('RGB')\n",
    "\n",
    "        # 对图像进行预处理并增加 batch 维度\n",
    "        img_tensor = transform(img).unsqueeze(0).to(device)  # 将图片移到 GPU\n",
    "\n",
    "        # 6. 将图片输入模型进行推理\n",
    "        with torch.no_grad():  # 禁用梯度计算\n",
    "            outputs = model(img_tensor)\n",
    "            _, predicted = torch.max(outputs, 1)  # 获取预测的类别\n",
    "\n",
    "        # 7. 真实标签是 1，比较预测结果\n",
    "        true_label = 1  # 所有图片的标签都是 1\n",
    "        total += 1\n",
    "        if predicted.item() == true_label:\n",
    "            correct += 1\n",
    "\n",
    "# 8. 输出准确率\n",
    "accuracy = (correct / total) * 100 if total > 0 else 0\n",
    "print(f'Accuracy: {accuracy:.2f}%')\n"
   ]
  },
  {
   "cell_type": "code",
   "execution_count": null,
   "metadata": {},
   "outputs": [],
   "source": []
  }
 ],
 "metadata": {
  "kernelspec": {
   "display_name": "ENV_DIR",
   "language": "python",
   "name": "python3"
  },
  "language_info": {
   "codemirror_mode": {
    "name": "ipython",
    "version": 3
   },
   "file_extension": ".py",
   "mimetype": "text/x-python",
   "name": "python",
   "nbconvert_exporter": "python",
   "pygments_lexer": "ipython3",
   "version": "3.12.6"
  }
 },
 "nbformat": 4,
 "nbformat_minor": 2
}

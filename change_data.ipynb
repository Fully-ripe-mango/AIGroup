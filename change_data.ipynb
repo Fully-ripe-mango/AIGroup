{
 "cells": [
  {
   "cell_type": "markdown",
   "metadata": {},
   "source": [
    "导入库"
   ]
  },
  {
   "cell_type": "code",
   "execution_count": 12,
   "metadata": {},
   "outputs": [],
   "source": [
    "import pubchempy as pcp\n",
    "from rdkit import Chem\n",
    "from rdkit.Chem import Draw\n",
    "import os\n",
    "import py3Dmol\n",
    "from rdkit.Chem import AllChem\n",
    "from IPython.display import display\n"
   ]
  },
  {
   "cell_type": "markdown",
   "metadata": {},
   "source": [
    "SMILE图片转化模块"
   ]
  },
  {
   "cell_type": "code",
   "execution_count": null,
   "metadata": {},
   "outputs": [],
   "source": [
    "def save_molecule_image(smiles, save_path, show_3d=False, show_2d=False, save_2d=False, save_3d=False):\n",
    "    # 解析 SMILES 字符串为分子对象\n",
    "    mol = Chem.MolFromSmiles(smiles)\n",
    "    \n",
    "    if mol is None:\n",
    "        print(\"无效的 SMILES 字符串\")\n",
    "        return\n",
    "\n",
    "    # 创建保存目录（如果不存在）\n",
    "    save_dir = os.path.dirname(save_path)\n",
    "    if not os.path.exists(save_dir):\n",
    "        os.makedirs(save_dir)\n",
    "\n",
    "    # 绘制 2D 分子图像并保存\n",
    "    if show_2d or save_2d:\n",
    "        img = Draw.MolToImage(mol)\n",
    "        if save_2d:\n",
    "            img.save(save_path)  # 保存 2D 图像\n",
    "        if show_2d:\n",
    "            display(img)\n",
    "\n",
    "    # 绘制 3D 分子图像并保存\n",
    "    if show_3d or save_3d:\n",
    "        # 为分子生成 3D 构象并优化\n",
    "        mol = Chem.AddHs(mol)  # 添加氢原子\n",
    "        AllChem.EmbedMolecule(mol, randomSeed=42)  # 生成 3D 构象\n",
    "        AllChem.UFFOptimizeMolecule(mol)  # 优化构象\n",
    "\n",
    "        # 获取分子的 MolBlock 格式（包括 3D 坐标）\n",
    "        mol_block = Chem.MolToMolBlock(mol)\n",
    "\n",
    "        # 使用 py3Dmol 可视化并显示 3D 图像\n",
    "        viewer = py3Dmol.view(width=800, height=600)\n",
    "        viewer.addModel(mol_block, \"mol\")\n",
    "        viewer.setStyle({'stick': {}})\n",
    "        viewer.zoomTo()\n",
    "\n",
    "        # 显示 3D 图像\n",
    "        if show_3d:\n",
    "            viewer.show()  # 直接在 Jupyter 中显示 3D 分子\n",
    "\n",
    "        # 保存 3D 图像为 PNG 文件\n",
    "        if save_3d:\n",
    "            with open(save_path, 'w') as file:\n",
    "                file.write(mol_block)  # 保存 3D 模型为 Molfile 格式\n",
    "            print(f\"3D 分子模型已保存到 {save_path}\")\n",
    "\n",
    "save_molecule_image(\"CCO\", r\"E:\\code\\Jupyter\\final_repo\\text_pic\\Mol0.Mol\",show_3d=True,save_3d=True)\n"
   ]
  },
  {
   "cell_type": "markdown",
   "metadata": {},
   "source": [
    "CID 转化 SMILE 模块"
   ]
  },
  {
   "cell_type": "code",
   "execution_count": 14,
   "metadata": {},
   "outputs": [],
   "source": [
    "def cidtosmile(cid):\n",
    "    compound = pcp.Compound.from_cid(cid)\n",
    "\n",
    "    # 获取 SMILES\n",
    "    smiles = compound.isomeric_smiles\n",
    "    return smiles"
   ]
  },
  {
   "cell_type": "markdown",
   "metadata": {},
   "source": [
    "读取`cid_data.json`文件,并批量生成png"
   ]
  },
  {
   "cell_type": "code",
   "execution_count": null,
   "metadata": {},
   "outputs": [],
   "source": [
    "import json\n",
    "with open(r\"E:\\code\\Jupyter\\final_repo\\cid_data.json\",\"r\",encoding= \"UTF-8\") as file1:\n",
    "    cid_data = json.load(file1)\n",
    "for i in range(0,1099):\n",
    "    try :\n",
    "        save_molecule_image(cidtosmile(cid_data[\"Anti-inflammatory_data\"][i]),f\"E:\\\\code\\\\Jupyter\\\\final_repo\\\\Anti-inflammatory_pic\\\\picture{i}.png\",save_2d=True)\n",
    "    except Exception as e:\n",
    "       print(e)\n",
    "       print(i)"
   ]
  },
  {
   "cell_type": "code",
   "execution_count": null,
   "metadata": {},
   "outputs": [],
   "source": []
  }
 ],
 "metadata": {
  "kernelspec": {
   "display_name": "Python 3",
   "language": "python",
   "name": "python3"
  },
  "language_info": {
   "codemirror_mode": {
    "name": "ipython",
    "version": 3
   },
   "file_extension": ".py",
   "mimetype": "text/x-python",
   "name": "python",
   "nbconvert_exporter": "python",
   "pygments_lexer": "ipython3",
   "version": "3.10.15"
  }
 },
 "nbformat": 4,
 "nbformat_minor": 2
}
